{
 "cells": [
  {
   "cell_type": "markdown",
   "id": "626a022d-5469-4e2c-aba7-c6b00be60b54",
   "metadata": {},
   "source": [
    "# Level 1: Rice Crop Discovery Tool Benchmark Notebook"
   ]
  },
  {
   "cell_type": "markdown",
   "id": "ccfd5ecb-92da-4356-860f-64cec7534b45",
   "metadata": {},
   "source": [
    "## Challenge Level 1 Overview"
   ]
  },
  {
   "cell_type": "markdown",
   "id": "e854b5f4-ee16-40da-a6d1-81898cc52aae",
   "metadata": {},
   "source": [
    "<p align=\"justify\">Welcome to the EY Open Science Data Challenge 2023! This challenge consists of two levels – Level 1 and Level 2. This is the Level 1 challenge aimed at participants who are beginners or have intermediate skill sets in data science and programming. The goal of Level 1 is to predict the presence of rice crops at a given location using satellite data. By the time you complete this level, you will have developed a rice crop classification model, which can distinguish between rice and non-rice fields. \n",
    "</p>"
   ]
  },
  {
   "cell_type": "markdown",
   "id": "5f5c6226-0341-48c1-82b6-3fb000064462",
   "metadata": {},
   "source": [
    "<b>Challenge Aim: </b><p align=\"justify\"> <p>"
   ]
  },
  {
   "cell_type": "markdown",
   "id": "8bdd1b29",
   "metadata": {},
   "source": [
    "<p align=\"justify\">In this notebook, we will demonstrate a basic model workflow that can serve as a starting point for the challenge. The basic model has been built to predict rice crops against non-rice crops (which might include forest, other vegetation and water bodies) using features from the Sentinel-1 Radiometrically Terrain Corrected (RTC)  dataset as predictor variables. In this demonstration, we have used two features from the Sentinel-1 dataset, namely VV (Vertical polarization – Vertical polarization) and VH (Vertical polarization – Horizontal polarization) and trained a logistic regression model with these features. We have extracted the VV band and VH band data from the Sentinel-1 dataset for one day (21st March 2020), with an assumption that VV and VH values for this day are representative of VV and VH values for the entire year (2020) for a given location.\n",
    "\n",
    "Most of the functions presented in this notebook were adapted from the <a href=\"https://planetarycomputer.microsoft.com/dataset/sentinel-1-rtc#Example-Notebook\">Sentinel-1-RTC notebook</a> found in the Planetary Computer portal.</p>\n",
    "    \n",
    "<p align=\"justify\"> Please note that this notebook is just a starting point. We have made many assumptions in this notebook that you may think are not best for solving the challenge effectively. You are encouraged to modify these functions, rewrite them, or try an entirely new approach.</p>"
   ]
  },
  {
   "cell_type": "markdown",
   "id": "2cb152d6-21e5-46c6-931d-11e99e6a6798",
   "metadata": {},
   "source": [
    "## Load In Dependencies"
   ]
  },
  {
   "cell_type": "markdown",
   "id": "093dca36-dae9-4b87-9026-7508740cd746",
   "metadata": {},
   "source": [
    "To run this demonstration notebook, you will need to have the following packages imported below installed. This may take some time.  "
   ]
  },
  {
   "cell_type": "markdown",
   "id": "c546caac-b5a5-494f-95e8-19a01e117492",
   "metadata": {},
   "source": [
    "#### Note: Environment setup\n",
    "Running this notebook requires an API key.\n",
    "\n",
    "To use your API key locally, set the environment variable <i><b>PC_SDK_SUBSCRIPTION_KEY</i></b> or use <i><b>planetary_computer.settings.set_subscription_key(<YOUR API Key>)</i></b><br>\n",
    "See <a href=\"https://planetarycomputer.microsoft.com/docs/concepts/sas/#when-an-account-is-needed\">when an account is needed for more </a>, and <a href=\"https://planetarycomputer.microsoft.com/account/request\">request</a> an account if needed."
   ]
  },
  {
   "cell_type": "code",
   "execution_count": null,
   "id": "3a03723e-78ae-4150-ba22-e2e485b95cdb",
   "metadata": {},
   "outputs": [],
   "source": [
    "!pip install tensorflow\n",
    "# Supress Warnings\n",
    "import warnings\n",
    "warnings.filterwarnings('ignore')\n",
    "\n",
    "# Visualization\n",
    "import ipyleaflet\n",
    "import matplotlib.pyplot as plt\n",
    "from IPython.display import Image\n",
    "import seaborn as sns\n",
    "import urllib.request\n",
    "\n",
    "# Data Science\n",
    "import numpy as np\n",
    "import pandas as pd\n",
    "from statistics import fmean\n",
    "import sys\n",
    "\n",
    "# Feature Engineering\n",
    "from sklearn.preprocessing import MinMaxScaler, MaxAbsScaler, StandardScaler\n",
    "from sklearn.model_selection import train_test_split\n",
    "\n",
    "# Machine Learning\n",
    "from sklearn.linear_model import LogisticRegression, Perceptron\n",
    "from sklearn.metrics import f1_score, accuracy_score,classification_report,confusion_matrix\n",
    "from sklearn.neural_network import MLPClassifier\n",
    "\n",
    "## TENSOR FLOW\n",
    "import tensorflow as tf\n",
    "from tensorflow.keras.models import Sequential\n",
    "from tensorflow.keras.layers import Dense\n",
    "from tensorflow.keras.layers import LSTM\n",
    "from tensorflow.keras.layers import Embedding\n",
    "from tensorflow.keras.preprocessing import sequence\n",
    "\n",
    "# Planetary Computer Tools\n",
    "import pystac\n",
    "import pystac_client\n",
    "import odc\n",
    "from pystac_client import Client\n",
    "from pystac.extensions.eo import EOExtension as eo\n",
    "from odc.stac import stac_load\n",
    "import planetary_computer as pc\n",
    "pc.settings.set_subscription_key('28c0d5ff91ba4def81b44a6322afaad4')\n",
    "\n",
    "# Others\n",
    "import requests\n",
    "import os\n",
    "import rich.table\n",
    "from itertools import cycle\n",
    "from tqdm import tqdm\n",
    "tqdm.pandas()"
   ]
  },
  {
   "cell_type": "markdown",
   "id": "1c268cf6",
   "metadata": {},
   "source": [
    "## Response Variable"
   ]
  },
  {
   "cell_type": "markdown",
   "id": "f80dbf04",
   "metadata": {},
   "source": [
    "Before building the model, we need to load in the rice crop presence data. We have curated for you data from a certain region in Vietnam for the year 2020. The data consists of  geo locations (Latitude and Longitude) with a tag specifying if the crop present in each geo location is rice or not.  "
   ]
  },
  {
   "cell_type": "code",
   "execution_count": 3,
   "id": "0f1da678",
   "metadata": {},
   "outputs": [
    {
     "data": {
      "text/html": [
       "<div>\n",
       "<style scoped>\n",
       "    .dataframe tbody tr th:only-of-type {\n",
       "        vertical-align: middle;\n",
       "    }\n",
       "\n",
       "    .dataframe tbody tr th {\n",
       "        vertical-align: top;\n",
       "    }\n",
       "\n",
       "    .dataframe thead th {\n",
       "        text-align: right;\n",
       "    }\n",
       "</style>\n",
       "<table border=\"1\" class=\"dataframe\">\n",
       "  <thead>\n",
       "    <tr style=\"text-align: right;\">\n",
       "      <th></th>\n",
       "      <th>Latitude and Longitude</th>\n",
       "      <th>Class of Land</th>\n",
       "    </tr>\n",
       "  </thead>\n",
       "  <tbody>\n",
       "    <tr>\n",
       "      <th>0</th>\n",
       "      <td>(10.323727047081501, 105.2516346045924)</td>\n",
       "      <td>Rice</td>\n",
       "    </tr>\n",
       "    <tr>\n",
       "      <th>1</th>\n",
       "      <td>(10.322364360592521, 105.27843410554115)</td>\n",
       "      <td>Rice</td>\n",
       "    </tr>\n",
       "    <tr>\n",
       "      <th>2</th>\n",
       "      <td>(10.321455902933202, 105.25254306225168)</td>\n",
       "      <td>Rice</td>\n",
       "    </tr>\n",
       "    <tr>\n",
       "      <th>3</th>\n",
       "      <td>(10.324181275911162, 105.25118037576274)</td>\n",
       "      <td>Rice</td>\n",
       "    </tr>\n",
       "    <tr>\n",
       "      <th>4</th>\n",
       "      <td>(10.324635504740822, 105.27389181724476)</td>\n",
       "      <td>Rice</td>\n",
       "    </tr>\n",
       "  </tbody>\n",
       "</table>\n",
       "</div>"
      ],
      "text/plain": [
       "                     Latitude and Longitude Class of Land\n",
       "0   (10.323727047081501, 105.2516346045924)          Rice\n",
       "1  (10.322364360592521, 105.27843410554115)          Rice\n",
       "2  (10.321455902933202, 105.25254306225168)          Rice\n",
       "3  (10.324181275911162, 105.25118037576274)          Rice\n",
       "4  (10.324635504740822, 105.27389181724476)          Rice"
      ]
     },
     "execution_count": 3,
     "metadata": {},
     "output_type": "execute_result"
    }
   ],
   "source": [
    "crop_presence_data = pd.read_csv(\"Crop_Location_Data_20221201.csv\")\n",
    "crop_presence_data.head()"
   ]
  },
  {
   "cell_type": "markdown",
   "id": "b3b6812c-7137-4873-b4ed-2dcdd470209b",
   "metadata": {},
   "source": [
    "## Predictor Variables"
   ]
  },
  {
   "cell_type": "markdown",
   "id": "1487a9dc-1308-4c05-a69a-ccfe60bc9100",
   "metadata": {},
   "source": [
    "<p align =\"justify\">Now that we have our crop location data, it is time to gather the predictor variables from the Sentinel-1 dataset. For a more in-depth look regarding the Sentinel-1 dataset and how to query it, see the Sentinel-1 <a href=\"https://challenge.ey.com/api/v1/storage/admin-files/6403146221623637-63ca8d537b1fe300146c79d0-Sentinel%201%20Phenology.ipynb/\"> supplementary \n",
    "notebook</a>.\n",
    "    \n",
    "\n",
    "<p align = \"justify\">Sentinel-1 radar data penetrates through the clouds, thus helping us to get the band values with minimal atmospheric attenuation. Band values such as VV and VH help us in distinguishing between the rice and non rice crops. Hence we are choosing VV and VH as predictor variables for this experiment. \n",
    "        \n",
    "<ul>\n",
    "<li>VV - gamma naught values of signal transmitted with vertical polarization and received with vertical polarization with radiometric terrain correction applied.\n",
    "\n",
    "<li>VH - gamma naught values of signal transmitted with vertical polarization and received with horizontal polarization with radiometric terrain correction applied.\n",
    "</ul>"
   ]
  },
  {
   "cell_type": "markdown",
   "id": "04011667-99ae-4820-a635-d8d50f716fe3",
   "metadata": {},
   "source": [
    "<h4 style=\"color:rgb(195, 52, 235)\"><strong>Tip 1</strong></h4>\n",
    "<p align=\"justify\">Participants might explore other combinations of bands from the Sentinel-1 data. For example, you can use mathematical combinations of bands to generate various <a href=\"https://challenge.ey.com/api/v1/storage/admin-files/3868217534768359-63ca8dc8aea56e00146e3489-Comprehensive%20Guide%20-%20Satellite%20Data.docx\">vegetation indices </a> which can then be used as features in your model.\n"
   ]
  },
  {
   "cell_type": "markdown",
   "id": "0c85257f-4a48-49e8-8036-10e9a6b69894",
   "metadata": {},
   "source": [
    "### Accessing the Sentinel-1 Data"
   ]
  },
  {
   "cell_type": "markdown",
   "id": "5399737c-46bb-44b7-bda8-4253c827e66d",
   "metadata": {},
   "source": [
    "<p align = \"Justify\">To get the Sentinel-1 data, we write a function called <i><b>get_sentinel_data.</b></i> This function will fetch VV and VH band values for a particular location over the specified time window. In this example, we have extracted VV and VH values for a day (21st March 2020). </p>"
   ]
  },
  {
   "cell_type": "markdown",
   "id": "87f85d6d-6c72-438b-81f8-8aafb1265b0a",
   "metadata": {},
   "source": [
    "<h4 style=\"color:rgb(195, 52, 235)\"><strong>Tip 2</strong></h4>\n",
    "<p align=\"justify\"> Extract VV and VH band values for an entire year. Different land classes (e.g., agriculture, water, urban) will have different annual variability. This variability will be better than a single date for accurately identifying land classes. Please find below a demonstration of extracting data for a day (21st March 2020)."
   ]
  },
  {
   "cell_type": "code",
   "execution_count": 4,
   "id": "5e339a34-cfa7-4899-9165-63ca7c01bbb9",
   "metadata": {},
   "outputs": [],
   "source": [
    "def get_sentinel_data(latlong,time_slice,assets):\n",
    "    '''\n",
    "    Returns VV and VH values for a given latitude and longitude \n",
    "    Attributes:\n",
    "    latlong - A tuple with 2 elements - latitude and longitude\n",
    "    time_slice - Timeframe for which the VV and VH values have to be extracted\n",
    "    assets - A list of bands to be extracted\n",
    "    '''\n",
    "\n",
    "    latlong=latlong.replace('(','').replace(')','').replace(' ','').split(',')\n",
    "    box_size_deg = 0.0004\n",
    "    \n",
    "    min_lon = float(latlong[1])-box_size_deg/2\n",
    "    min_lat = float(latlong[0])-box_size_deg/2\n",
    "    max_lon = float(latlong[1])+box_size_deg/2\n",
    "    max_lat = float(latlong[0])+box_size_deg/2\n",
    "    \n",
    "    bbox_of_interest = (min_lon, min_lat, max_lon, max_lat)\n",
    "    time_of_interest = time_slice\n",
    "\n",
    "    catalog = pystac_client.Client.open(\n",
    "        \"https://planetarycomputer.microsoft.com/api/stac/v1\"\n",
    "    )\n",
    "    search = catalog.search(\n",
    "        collections=[\"sentinel-1-rtc\"], bbox=bbox_of_interest, datetime=time_of_interest\n",
    "    )\n",
    "    items = list(search.get_all_items())\n",
    "    \n",
    "    resolution = 10  # meters per pixel \n",
    "    scale = resolution / 111320.0 # degrees per pixel for crs=4326 \n",
    "    \n",
    "    data = stac_load(items,bands = assets, patch_url=pc.sign, bbox=bbox_of_interest, crs=\"EPSG:4326\", resolution=scale)\n",
    "    mean = data.mean(dim=['latitude','longitude']).compute()\n",
    "    dop = (mean.vv / (mean.vv + mean.vh))\n",
    "    m = 1 - dop\n",
    "    rvi = (np.sqrt(m))*((4*mean.vh)/(mean.vv + mean.vh))\n",
    "    \n",
    "    return rvi"
   ]
  },
  {
   "cell_type": "markdown",
   "id": "caab9734-6cdf-466f-87c3-8067b05b90ba",
   "metadata": {},
   "source": [
    "<h4 style=\"color:rgb(195, 52, 235)\"><strong>Tip 3 </strong></h4>"
   ]
  },
  {
   "cell_type": "markdown",
   "id": "0cdb9b25-0c41-4f55-aa33-082adeb34dbd",
   "metadata": {},
   "source": [
    "Explore the approach of building a bounding box (e.g., 5x5 pixels) around the given latitude and longitude positions and then extract the aggregated band values (e.g., average, median) to get normalized band values to build the model. Radar data has inherent variability at the pixel level due to variable scattering response from the target. This effect is called “speckle” and it is common to filter the data to smooth these variations. Try using a 3x3, 5x5 or 7x7 window around the specific latitude and longitude point to get improved results."
   ]
  },
  {
   "cell_type": "code",
   "execution_count": null,
   "id": "4c51cd6e-41e2-4df4-ae07-349be861f0f0",
   "metadata": {},
   "outputs": [],
   "source": [
    "## Function call to extract VV,VH Values\n",
    "## This takes 4 hours to run so I've saved the data as sentinel_1_data\n",
    "time_slice = \"2020-03-20/2021-03-20\"\n",
    "assests = ['vh','vv']\n",
    "vh_vv = []\n",
    "for coordinates in tqdm(crop_presence_data['Latitude and Longitude']):\n",
    "    rvi = get_sentinel_data(coordinates, time_slice, assests)\n",
    "    vh_vv.append(rvi)\n",
    "vh_vv_data = pd.DataFrame(vh_vv)"
   ]
  },
  {
   "cell_type": "markdown",
   "id": "aa872546-7567-418c-af04-1d8b4fa5bd60",
   "metadata": {},
   "source": [
    "## Joining the predictor variables and response variables\n",
    "Now that we have extracted our predictor variables, we need to join them onto the response variable . We use the function <i><b>combine_two_datasets</b></i> to combine the predictor variables and response variables.The <i><b>concat</b></i> function from pandas comes in handy here."
   ]
  },
  {
   "cell_type": "code",
   "execution_count": 27,
   "id": "96296d95-8290-4f26-80f9-9e221bfcfc81",
   "metadata": {},
   "outputs": [],
   "source": [
    "vh_vv_data = vh_vv_data.loc[:,0:92]\n",
    "\n",
    "def combine_two_datasets(dataset1,dataset2):\n",
    "    '''\n",
    "    Returns a  vertically concatenated dataset.\n",
    "    Attributes:\n",
    "    dataset1 - Dataset 1 to be combined \n",
    "    dataset2 - Dataset 2 to be combined\n",
    "    '''\n",
    "    data = pd.concat([dataset1,dataset2], axis=1)\n",
    "    return data"
   ]
  },
  {
   "cell_type": "code",
   "execution_count": 37,
   "id": "20fa2b5f-727b-4781-9ff4-cc70596cd3f0",
   "metadata": {},
   "outputs": [
    {
     "data": {
      "text/html": [
       "<div>\n",
       "<style scoped>\n",
       "    .dataframe tbody tr th:only-of-type {\n",
       "        vertical-align: middle;\n",
       "    }\n",
       "\n",
       "    .dataframe tbody tr th {\n",
       "        vertical-align: top;\n",
       "    }\n",
       "\n",
       "    .dataframe thead th {\n",
       "        text-align: right;\n",
       "    }\n",
       "</style>\n",
       "<table border=\"1\" class=\"dataframe\">\n",
       "  <thead>\n",
       "    <tr style=\"text-align: right;\">\n",
       "      <th></th>\n",
       "      <th>Latitude and Longitude</th>\n",
       "      <th>Class of Land</th>\n",
       "      <th>0</th>\n",
       "      <th>1</th>\n",
       "      <th>2</th>\n",
       "      <th>3</th>\n",
       "      <th>4</th>\n",
       "      <th>5</th>\n",
       "      <th>6</th>\n",
       "      <th>7</th>\n",
       "      <th>...</th>\n",
       "      <th>83</th>\n",
       "      <th>84</th>\n",
       "      <th>85</th>\n",
       "      <th>86</th>\n",
       "      <th>87</th>\n",
       "      <th>88</th>\n",
       "      <th>89</th>\n",
       "      <th>90</th>\n",
       "      <th>91</th>\n",
       "      <th>92</th>\n",
       "    </tr>\n",
       "  </thead>\n",
       "  <tbody>\n",
       "    <tr>\n",
       "      <th>595</th>\n",
       "      <td>(10.013942985253381, 105.67361318732796)</td>\n",
       "      <td>Non Rice</td>\n",
       "      <td>&lt;xarray.DataArray ()&gt;\\narray(0.19655974, dtype...</td>\n",
       "      <td>&lt;xarray.DataArray ()&gt;\\narray(0.39938805, dtype...</td>\n",
       "      <td>&lt;xarray.DataArray ()&gt;\\narray(0.3184799, dtype=...</td>\n",
       "      <td>&lt;xarray.DataArray ()&gt;\\narray(0.38925806, dtype...</td>\n",
       "      <td>&lt;xarray.DataArray ()&gt;\\narray(0.2739313, dtype=...</td>\n",
       "      <td>&lt;xarray.DataArray ()&gt;\\narray(0.2770606, dtype=...</td>\n",
       "      <td>&lt;xarray.DataArray ()&gt;\\narray(0.33158368, dtype...</td>\n",
       "      <td>&lt;xarray.DataArray ()&gt;\\narray(0.23231599, dtype...</td>\n",
       "      <td>...</td>\n",
       "      <td>&lt;xarray.DataArray ()&gt;\\narray(0.48238558, dtype...</td>\n",
       "      <td>&lt;xarray.DataArray ()&gt;\\narray(0.27081254, dtype...</td>\n",
       "      <td>&lt;xarray.DataArray ()&gt;\\narray(0.28089663, dtype...</td>\n",
       "      <td>&lt;xarray.DataArray ()&gt;\\narray(0.33328292, dtype...</td>\n",
       "      <td>&lt;xarray.DataArray ()&gt;\\narray(0.2522075, dtype=...</td>\n",
       "      <td>&lt;xarray.DataArray ()&gt;\\narray(0.39207846, dtype...</td>\n",
       "      <td>&lt;xarray.DataArray ()&gt;\\narray(0.22683817, dtype...</td>\n",
       "      <td>&lt;xarray.DataArray ()&gt;\\narray(0.29818112, dtype...</td>\n",
       "      <td>&lt;xarray.DataArray ()&gt;\\narray(0.36950523, dtype...</td>\n",
       "      <td>&lt;xarray.DataArray ()&gt;\\narray(0.3994072, dtype=...</td>\n",
       "    </tr>\n",
       "    <tr>\n",
       "      <th>596</th>\n",
       "      <td>(10.01348875642372, 105.67361318732796)</td>\n",
       "      <td>Non Rice</td>\n",
       "      <td>&lt;xarray.DataArray ()&gt;\\narray(0.3555902, dtype=...</td>\n",
       "      <td>&lt;xarray.DataArray ()&gt;\\narray(0.2903077, dtype=...</td>\n",
       "      <td>&lt;xarray.DataArray ()&gt;\\narray(0.16377805, dtype...</td>\n",
       "      <td>&lt;xarray.DataArray ()&gt;\\narray(0.32119307, dtype...</td>\n",
       "      <td>&lt;xarray.DataArray ()&gt;\\narray(0.3793813, dtype=...</td>\n",
       "      <td>&lt;xarray.DataArray ()&gt;\\narray(0.24735147, dtype...</td>\n",
       "      <td>&lt;xarray.DataArray ()&gt;\\narray(0.32905725, dtype...</td>\n",
       "      <td>&lt;xarray.DataArray ()&gt;\\narray(0.24606143, dtype...</td>\n",
       "      <td>...</td>\n",
       "      <td>&lt;xarray.DataArray ()&gt;\\narray(0.59484184, dtype...</td>\n",
       "      <td>&lt;xarray.DataArray ()&gt;\\narray(0.33831546, dtype...</td>\n",
       "      <td>&lt;xarray.DataArray ()&gt;\\narray(0.25411814, dtype...</td>\n",
       "      <td>&lt;xarray.DataArray ()&gt;\\narray(0.22466914, dtype...</td>\n",
       "      <td>&lt;xarray.DataArray ()&gt;\\narray(0.27413058, dtype...</td>\n",
       "      <td>&lt;xarray.DataArray ()&gt;\\narray(0.32964402, dtype...</td>\n",
       "      <td>&lt;xarray.DataArray ()&gt;\\narray(0.34736705, dtype...</td>\n",
       "      <td>&lt;xarray.DataArray ()&gt;\\narray(0.42407405, dtype...</td>\n",
       "      <td>&lt;xarray.DataArray ()&gt;\\narray(0.55382156, dtype...</td>\n",
       "      <td>&lt;xarray.DataArray ()&gt;\\narray(0.40999198, dtype...</td>\n",
       "    </tr>\n",
       "    <tr>\n",
       "      <th>597</th>\n",
       "      <td>(10.013034527594062, 105.67361318732796)</td>\n",
       "      <td>Non Rice</td>\n",
       "      <td>&lt;xarray.DataArray ()&gt;\\narray(0.20934895, dtype...</td>\n",
       "      <td>&lt;xarray.DataArray ()&gt;\\narray(0.2577243, dtype=...</td>\n",
       "      <td>&lt;xarray.DataArray ()&gt;\\narray(0.21198733, dtype...</td>\n",
       "      <td>&lt;xarray.DataArray ()&gt;\\narray(0.33406776, dtype...</td>\n",
       "      <td>&lt;xarray.DataArray ()&gt;\\narray(0.33187065, dtype...</td>\n",
       "      <td>&lt;xarray.DataArray ()&gt;\\narray(0.24814975, dtype...</td>\n",
       "      <td>&lt;xarray.DataArray ()&gt;\\narray(0.27146998, dtype...</td>\n",
       "      <td>&lt;xarray.DataArray ()&gt;\\narray(0.45057943, dtype...</td>\n",
       "      <td>...</td>\n",
       "      <td>&lt;xarray.DataArray ()&gt;\\narray(0.41493595, dtype...</td>\n",
       "      <td>&lt;xarray.DataArray ()&gt;\\narray(0.28537256, dtype...</td>\n",
       "      <td>&lt;xarray.DataArray ()&gt;\\narray(0.50599813, dtype...</td>\n",
       "      <td>&lt;xarray.DataArray ()&gt;\\narray(0.47668934, dtype...</td>\n",
       "      <td>&lt;xarray.DataArray ()&gt;\\narray(0.29529318, dtype...</td>\n",
       "      <td>&lt;xarray.DataArray ()&gt;\\narray(0.36437353, dtype...</td>\n",
       "      <td>&lt;xarray.DataArray ()&gt;\\narray(0.21710692, dtype...</td>\n",
       "      <td>&lt;xarray.DataArray ()&gt;\\narray(0.5114662, dtype=...</td>\n",
       "      <td>&lt;xarray.DataArray ()&gt;\\narray(0.35419172, dtype...</td>\n",
       "      <td>&lt;xarray.DataArray ()&gt;\\narray(0.26622713, dtype...</td>\n",
       "    </tr>\n",
       "    <tr>\n",
       "      <th>598</th>\n",
       "      <td>(10.012580298764401, 105.67361318732796)</td>\n",
       "      <td>Non Rice</td>\n",
       "      <td>&lt;xarray.DataArray ()&gt;\\narray(0.21546237, dtype...</td>\n",
       "      <td>&lt;xarray.DataArray ()&gt;\\narray(0.36383352, dtype...</td>\n",
       "      <td>&lt;xarray.DataArray ()&gt;\\narray(0.3322873, dtype=...</td>\n",
       "      <td>&lt;xarray.DataArray ()&gt;\\narray(0.2127097, dtype=...</td>\n",
       "      <td>&lt;xarray.DataArray ()&gt;\\narray(0.51291436, dtype...</td>\n",
       "      <td>&lt;xarray.DataArray ()&gt;\\narray(0.14234579, dtype...</td>\n",
       "      <td>&lt;xarray.DataArray ()&gt;\\narray(0.5336944, dtype=...</td>\n",
       "      <td>&lt;xarray.DataArray ()&gt;\\narray(0.28254122, dtype...</td>\n",
       "      <td>...</td>\n",
       "      <td>&lt;xarray.DataArray ()&gt;\\narray(0.31938356, dtype...</td>\n",
       "      <td>&lt;xarray.DataArray ()&gt;\\narray(0.3118895, dtype=...</td>\n",
       "      <td>&lt;xarray.DataArray ()&gt;\\narray(0.6270707, dtype=...</td>\n",
       "      <td>&lt;xarray.DataArray ()&gt;\\narray(0.34401327, dtype...</td>\n",
       "      <td>&lt;xarray.DataArray ()&gt;\\narray(0.27901357, dtype...</td>\n",
       "      <td>&lt;xarray.DataArray ()&gt;\\narray(0.550253, dtype=f...</td>\n",
       "      <td>&lt;xarray.DataArray ()&gt;\\narray(0.27162036, dtype...</td>\n",
       "      <td>&lt;xarray.DataArray ()&gt;\\narray(0.34852818, dtype...</td>\n",
       "      <td>&lt;xarray.DataArray ()&gt;\\narray(0.28245082, dtype...</td>\n",
       "      <td>&lt;xarray.DataArray ()&gt;\\narray(0.311675, dtype=f...</td>\n",
       "    </tr>\n",
       "    <tr>\n",
       "      <th>599</th>\n",
       "      <td>(10.012126069934741, 105.67361318732796)</td>\n",
       "      <td>Non Rice</td>\n",
       "      <td>&lt;xarray.DataArray ()&gt;\\narray(0.2558531, dtype=...</td>\n",
       "      <td>&lt;xarray.DataArray ()&gt;\\narray(0.3539578, dtype=...</td>\n",
       "      <td>&lt;xarray.DataArray ()&gt;\\narray(0.43271172, dtype...</td>\n",
       "      <td>&lt;xarray.DataArray ()&gt;\\narray(0.24186663, dtype...</td>\n",
       "      <td>&lt;xarray.DataArray ()&gt;\\narray(0.2541362, dtype=...</td>\n",
       "      <td>&lt;xarray.DataArray ()&gt;\\narray(0.18631743, dtype...</td>\n",
       "      <td>&lt;xarray.DataArray ()&gt;\\narray(0.33960024, dtype...</td>\n",
       "      <td>&lt;xarray.DataArray ()&gt;\\narray(0.3975323, dtype=...</td>\n",
       "      <td>...</td>\n",
       "      <td>&lt;xarray.DataArray ()&gt;\\narray(0.4691493, dtype=...</td>\n",
       "      <td>&lt;xarray.DataArray ()&gt;\\narray(0.28549674, dtype...</td>\n",
       "      <td>&lt;xarray.DataArray ()&gt;\\narray(0.45891556, dtype...</td>\n",
       "      <td>&lt;xarray.DataArray ()&gt;\\narray(0.24588229, dtype...</td>\n",
       "      <td>&lt;xarray.DataArray ()&gt;\\narray(0.18654916, dtype...</td>\n",
       "      <td>&lt;xarray.DataArray ()&gt;\\narray(0.3637562, dtype=...</td>\n",
       "      <td>&lt;xarray.DataArray ()&gt;\\narray(0.31024554, dtype...</td>\n",
       "      <td>&lt;xarray.DataArray ()&gt;\\narray(0.5495329, dtype=...</td>\n",
       "      <td>&lt;xarray.DataArray ()&gt;\\narray(0.7351637, dtype=...</td>\n",
       "      <td>&lt;xarray.DataArray ()&gt;\\narray(0.5552375, dtype=...</td>\n",
       "    </tr>\n",
       "  </tbody>\n",
       "</table>\n",
       "<p>5 rows × 95 columns</p>\n",
       "</div>"
      ],
      "text/plain": [
       "                       Latitude and Longitude Class of Land  \\\n",
       "595  (10.013942985253381, 105.67361318732796)      Non Rice   \n",
       "596   (10.01348875642372, 105.67361318732796)      Non Rice   \n",
       "597  (10.013034527594062, 105.67361318732796)      Non Rice   \n",
       "598  (10.012580298764401, 105.67361318732796)      Non Rice   \n",
       "599  (10.012126069934741, 105.67361318732796)      Non Rice   \n",
       "\n",
       "                                                     0  \\\n",
       "595  <xarray.DataArray ()>\\narray(0.19655974, dtype...   \n",
       "596  <xarray.DataArray ()>\\narray(0.3555902, dtype=...   \n",
       "597  <xarray.DataArray ()>\\narray(0.20934895, dtype...   \n",
       "598  <xarray.DataArray ()>\\narray(0.21546237, dtype...   \n",
       "599  <xarray.DataArray ()>\\narray(0.2558531, dtype=...   \n",
       "\n",
       "                                                     1  \\\n",
       "595  <xarray.DataArray ()>\\narray(0.39938805, dtype...   \n",
       "596  <xarray.DataArray ()>\\narray(0.2903077, dtype=...   \n",
       "597  <xarray.DataArray ()>\\narray(0.2577243, dtype=...   \n",
       "598  <xarray.DataArray ()>\\narray(0.36383352, dtype...   \n",
       "599  <xarray.DataArray ()>\\narray(0.3539578, dtype=...   \n",
       "\n",
       "                                                     2  \\\n",
       "595  <xarray.DataArray ()>\\narray(0.3184799, dtype=...   \n",
       "596  <xarray.DataArray ()>\\narray(0.16377805, dtype...   \n",
       "597  <xarray.DataArray ()>\\narray(0.21198733, dtype...   \n",
       "598  <xarray.DataArray ()>\\narray(0.3322873, dtype=...   \n",
       "599  <xarray.DataArray ()>\\narray(0.43271172, dtype...   \n",
       "\n",
       "                                                     3  \\\n",
       "595  <xarray.DataArray ()>\\narray(0.38925806, dtype...   \n",
       "596  <xarray.DataArray ()>\\narray(0.32119307, dtype...   \n",
       "597  <xarray.DataArray ()>\\narray(0.33406776, dtype...   \n",
       "598  <xarray.DataArray ()>\\narray(0.2127097, dtype=...   \n",
       "599  <xarray.DataArray ()>\\narray(0.24186663, dtype...   \n",
       "\n",
       "                                                     4  \\\n",
       "595  <xarray.DataArray ()>\\narray(0.2739313, dtype=...   \n",
       "596  <xarray.DataArray ()>\\narray(0.3793813, dtype=...   \n",
       "597  <xarray.DataArray ()>\\narray(0.33187065, dtype...   \n",
       "598  <xarray.DataArray ()>\\narray(0.51291436, dtype...   \n",
       "599  <xarray.DataArray ()>\\narray(0.2541362, dtype=...   \n",
       "\n",
       "                                                     5  \\\n",
       "595  <xarray.DataArray ()>\\narray(0.2770606, dtype=...   \n",
       "596  <xarray.DataArray ()>\\narray(0.24735147, dtype...   \n",
       "597  <xarray.DataArray ()>\\narray(0.24814975, dtype...   \n",
       "598  <xarray.DataArray ()>\\narray(0.14234579, dtype...   \n",
       "599  <xarray.DataArray ()>\\narray(0.18631743, dtype...   \n",
       "\n",
       "                                                     6  \\\n",
       "595  <xarray.DataArray ()>\\narray(0.33158368, dtype...   \n",
       "596  <xarray.DataArray ()>\\narray(0.32905725, dtype...   \n",
       "597  <xarray.DataArray ()>\\narray(0.27146998, dtype...   \n",
       "598  <xarray.DataArray ()>\\narray(0.5336944, dtype=...   \n",
       "599  <xarray.DataArray ()>\\narray(0.33960024, dtype...   \n",
       "\n",
       "                                                     7  ...  \\\n",
       "595  <xarray.DataArray ()>\\narray(0.23231599, dtype...  ...   \n",
       "596  <xarray.DataArray ()>\\narray(0.24606143, dtype...  ...   \n",
       "597  <xarray.DataArray ()>\\narray(0.45057943, dtype...  ...   \n",
       "598  <xarray.DataArray ()>\\narray(0.28254122, dtype...  ...   \n",
       "599  <xarray.DataArray ()>\\narray(0.3975323, dtype=...  ...   \n",
       "\n",
       "                                                    83  \\\n",
       "595  <xarray.DataArray ()>\\narray(0.48238558, dtype...   \n",
       "596  <xarray.DataArray ()>\\narray(0.59484184, dtype...   \n",
       "597  <xarray.DataArray ()>\\narray(0.41493595, dtype...   \n",
       "598  <xarray.DataArray ()>\\narray(0.31938356, dtype...   \n",
       "599  <xarray.DataArray ()>\\narray(0.4691493, dtype=...   \n",
       "\n",
       "                                                    84  \\\n",
       "595  <xarray.DataArray ()>\\narray(0.27081254, dtype...   \n",
       "596  <xarray.DataArray ()>\\narray(0.33831546, dtype...   \n",
       "597  <xarray.DataArray ()>\\narray(0.28537256, dtype...   \n",
       "598  <xarray.DataArray ()>\\narray(0.3118895, dtype=...   \n",
       "599  <xarray.DataArray ()>\\narray(0.28549674, dtype...   \n",
       "\n",
       "                                                    85  \\\n",
       "595  <xarray.DataArray ()>\\narray(0.28089663, dtype...   \n",
       "596  <xarray.DataArray ()>\\narray(0.25411814, dtype...   \n",
       "597  <xarray.DataArray ()>\\narray(0.50599813, dtype...   \n",
       "598  <xarray.DataArray ()>\\narray(0.6270707, dtype=...   \n",
       "599  <xarray.DataArray ()>\\narray(0.45891556, dtype...   \n",
       "\n",
       "                                                    86  \\\n",
       "595  <xarray.DataArray ()>\\narray(0.33328292, dtype...   \n",
       "596  <xarray.DataArray ()>\\narray(0.22466914, dtype...   \n",
       "597  <xarray.DataArray ()>\\narray(0.47668934, dtype...   \n",
       "598  <xarray.DataArray ()>\\narray(0.34401327, dtype...   \n",
       "599  <xarray.DataArray ()>\\narray(0.24588229, dtype...   \n",
       "\n",
       "                                                    87  \\\n",
       "595  <xarray.DataArray ()>\\narray(0.2522075, dtype=...   \n",
       "596  <xarray.DataArray ()>\\narray(0.27413058, dtype...   \n",
       "597  <xarray.DataArray ()>\\narray(0.29529318, dtype...   \n",
       "598  <xarray.DataArray ()>\\narray(0.27901357, dtype...   \n",
       "599  <xarray.DataArray ()>\\narray(0.18654916, dtype...   \n",
       "\n",
       "                                                    88  \\\n",
       "595  <xarray.DataArray ()>\\narray(0.39207846, dtype...   \n",
       "596  <xarray.DataArray ()>\\narray(0.32964402, dtype...   \n",
       "597  <xarray.DataArray ()>\\narray(0.36437353, dtype...   \n",
       "598  <xarray.DataArray ()>\\narray(0.550253, dtype=f...   \n",
       "599  <xarray.DataArray ()>\\narray(0.3637562, dtype=...   \n",
       "\n",
       "                                                    89  \\\n",
       "595  <xarray.DataArray ()>\\narray(0.22683817, dtype...   \n",
       "596  <xarray.DataArray ()>\\narray(0.34736705, dtype...   \n",
       "597  <xarray.DataArray ()>\\narray(0.21710692, dtype...   \n",
       "598  <xarray.DataArray ()>\\narray(0.27162036, dtype...   \n",
       "599  <xarray.DataArray ()>\\narray(0.31024554, dtype...   \n",
       "\n",
       "                                                    90  \\\n",
       "595  <xarray.DataArray ()>\\narray(0.29818112, dtype...   \n",
       "596  <xarray.DataArray ()>\\narray(0.42407405, dtype...   \n",
       "597  <xarray.DataArray ()>\\narray(0.5114662, dtype=...   \n",
       "598  <xarray.DataArray ()>\\narray(0.34852818, dtype...   \n",
       "599  <xarray.DataArray ()>\\narray(0.5495329, dtype=...   \n",
       "\n",
       "                                                    91  \\\n",
       "595  <xarray.DataArray ()>\\narray(0.36950523, dtype...   \n",
       "596  <xarray.DataArray ()>\\narray(0.55382156, dtype...   \n",
       "597  <xarray.DataArray ()>\\narray(0.35419172, dtype...   \n",
       "598  <xarray.DataArray ()>\\narray(0.28245082, dtype...   \n",
       "599  <xarray.DataArray ()>\\narray(0.7351637, dtype=...   \n",
       "\n",
       "                                                    92  \n",
       "595  <xarray.DataArray ()>\\narray(0.3994072, dtype=...  \n",
       "596  <xarray.DataArray ()>\\narray(0.40999198, dtype...  \n",
       "597  <xarray.DataArray ()>\\narray(0.26622713, dtype...  \n",
       "598  <xarray.DataArray ()>\\narray(0.311675, dtype=f...  \n",
       "599  <xarray.DataArray ()>\\narray(0.5552375, dtype=...  \n",
       "\n",
       "[5 rows x 95 columns]"
      ]
     },
     "execution_count": 37,
     "metadata": {},
     "output_type": "execute_result"
    }
   ],
   "source": [
    "crop_data = combine_two_datasets(crop_presence_data,vh_vv_data)\n",
    "crop_data.tail()"
   ]
  },
  {
   "cell_type": "code",
   "execution_count": 44,
   "id": "2dbdf174-7cca-4b8b-bb6f-1e4b60327343",
   "metadata": {},
   "outputs": [],
   "source": [
    "##saving data\n",
    "crop_data.to_pickle(os.path.abspath(\"\") + \"/pickle\")"
   ]
  },
  {
   "cell_type": "code",
   "execution_count": null,
   "id": "26cf1440-9311-4dbf-b4a3-03bed6b8fa53",
   "metadata": {},
   "outputs": [],
   "source": [
    "##loading pickled RVI data\n",
    "unpickled_crop_data = pd.read_pickle(os.path.abspath(\"\") + \"/pickle\")\n",
    "unpickled_crop_data"
   ]
  },
  {
   "cell_type": "markdown",
   "id": "fd4af7b5-41d1-4822-8d78-5e4bdc84b287",
   "metadata": {},
   "source": [
    "## Model Building\n"
   ]
  },
  {
   "cell_type": "markdown",
   "id": "a664ca55-dba1-440b-a4ef-2b6934c03929",
   "metadata": {},
   "source": [
    "<p align=\"justify\"> Now let us select the columns required for our model building exercise. We will consider only VV and VH for our model. It does not make sense to use latitude and longitude as predictor variables as they do not have any impact on presence of rice crop.</p>"
   ]
  },
  {
   "cell_type": "code",
   "execution_count": 46,
   "id": "536d53ad-2697-4283-8ceb-db94f93bad7e",
   "metadata": {},
   "outputs": [],
   "source": [
    "crop_data = crop_data.drop(columns=['Latitude and Longitude'])"
   ]
  },
  {
   "cell_type": "markdown",
   "id": "fca40658-8003-4195-b0d1-5efe29929ac9",
   "metadata": {},
   "source": [
    "### Train and Test Split "
   ]
  },
  {
   "cell_type": "markdown",
   "id": "b46507f5-cfd1-43d8-8b05-aa09ce8016af",
   "metadata": {},
   "source": [
    "<p align=\"justify\">We will now split the data into 70% training data and 30% test data. Scikit-learn alias “sklearn” is a robust library for machine learning in Python. The scikit-learn library has a <i><b>model_selection</b></i> module in which there is a splitting function <i><b>train_test_split</b></i>. You can use the same.</p>"
   ]
  },
  {
   "cell_type": "code",
   "execution_count": 47,
   "id": "062ac03d-245d-49af-82d9-56d3ac581e85",
   "metadata": {},
   "outputs": [],
   "source": [
    "X = crop_data.drop(columns=['Class of Land']).values\n",
    "X.reshape(600,93,1)\n",
    "y = crop_data['Class of Land'].values\n",
    "X_train, X_test, y_train, y_test = train_test_split(X, y, test_size=0.3,stratify=y,random_state=40)"
   ]
  },
  {
   "cell_type": "markdown",
   "id": "b031607b-9e71-46c8-beb1-3610ab59c56a",
   "metadata": {},
   "source": [
    "### Feature Scaling "
   ]
  },
  {
   "cell_type": "markdown",
   "id": "3b2140c8-3fed-49a4-b9c5-7378c12c5784",
   "metadata": {},
   "source": [
    "<p align=\"justify\"> Before initiating the model training we may have to execute different data pre-processing steps. Here we are demonstrating the scaling of VV and VH variable by using Standard Scaler.</p>"
   ]
  },
  {
   "cell_type": "markdown",
   "id": "d859a23d-be08-4a7c-b27b-1a4afb03feb5",
   "metadata": {},
   "source": [
    "<p align = \"justify\">Feature Scaling is a data preprocessing step for numerical features. Many machine learning algorithms like Gradient descent methods, KNN algorithm, linear and logistic regression, etc. require data scaling to produce good results. Scikit learn provides functions that can be used to apply data scaling. Here we are using Standard Scaler.</p>"
   ]
  },
  {
   "cell_type": "markdown",
   "id": "6a85328e-bef5-4b81-b7a0-443557387e0c",
   "metadata": {},
   "source": [
    "<h4 style=\"color:rgb(195, 52, 235)\"><strong>Tip 4 </strong></h4>\n",
    "<p align=\"justify\">Participants might explore other feature scaling techniques like Min Max Scaler, Max Absolute Scaling, Robust Scaling etc.</p>"
   ]
  },
  {
   "cell_type": "code",
   "execution_count": 48,
   "id": "1506aede-aca0-4acc-a9b7-c7547dd9ed0a",
   "metadata": {},
   "outputs": [],
   "source": [
    "sc = StandardScaler()\n",
    "X_train = sc.fit_transform(X_train)\n",
    "X_test = sc.transform(X_test)"
   ]
  },
  {
   "cell_type": "code",
   "execution_count": 60,
   "id": "58a5bb8c-1135-4e68-b88a-8db11ac719bf",
   "metadata": {},
   "outputs": [],
   "source": [
    "y_train_int = pd.get_dummies(y_train).values.argmax(1)\n",
    "y_test_int = pd.get_dummies(y_test).values.argmax(1)"
   ]
  },
  {
   "cell_type": "markdown",
   "id": "ed1de27d-2b8b-4a3d-bf83-66f69f435402",
   "metadata": {},
   "source": [
    "### Model Training"
   ]
  },
  {
   "cell_type": "markdown",
   "id": "c3e978bb-a1af-48d7-ae11-6912bbe45adf",
   "metadata": {},
   "source": [
    "<p justify =\"align\">Now that we have the data in a format appropriate for machine learning, we can begin training a model. In this demonstration notebook, we have used a binary logistic regression model from the scikit-learn library. This library offers a wide range of other models, each with the capacity for extensive parameter tuning and customization capabilities.</p>\n",
    "\n",
    "<p justify =\"align\">Scikit-learn models require separation of predictor variables and the response variable. You have to store the predictor variables in array X and the response variable in the array Y. You must make sure not to include the response variable in array X. It also doesn't make sense to use latitude and longitude as predictor variables in such a confined area, so we drop those too.</p>"
   ]
  },
  {
   "cell_type": "code",
   "execution_count": 61,
   "id": "888f7099-afbf-47d5-a214-00ae0e11bf66",
   "metadata": {},
   "outputs": [
    {
     "name": "stdout",
     "output_type": "stream",
     "text": [
      "Model: \"sequential_3\"\n",
      "_________________________________________________________________\n",
      " Layer (type)                Output Shape              Param #   \n",
      "=================================================================\n",
      " lstm_3 (LSTM)               (600, 100)                40800     \n",
      "                                                                 \n",
      " dense_12 (Dense)            (600, 50)                 5050      \n",
      "                                                                 \n",
      " dense_13 (Dense)            (600, 25)                 1275      \n",
      "                                                                 \n",
      " dense_14 (Dense)            (600, 10)                 260       \n",
      "                                                                 \n",
      " dense_15 (Dense)            (600, 1)                  11        \n",
      "                                                                 \n",
      "=================================================================\n",
      "Total params: 47,396\n",
      "Trainable params: 47,396\n",
      "Non-trainable params: 0\n",
      "_________________________________________________________________\n",
      "None\n",
      "Epoch 1/3\n"
     ]
    },
    {
     "name": "stderr",
     "output_type": "stream",
     "text": [
      "2023-03-28 05:04:16.272837: I tensorflow/core/common_runtime/executor.cc:1197] [/device:CPU:0] (DEBUG INFO) Executor start aborting (this does not indicate an error and you can ignore this message): INVALID_ARGUMENT: You must feed a value for placeholder tensor 'gradients/split_2_grad/concat/split_2/split_dim' with dtype int32\n",
      "\t [[{{node gradients/split_2_grad/concat/split_2/split_dim}}]]\n",
      "2023-03-28 05:04:16.274872: I tensorflow/core/common_runtime/executor.cc:1197] [/device:CPU:0] (DEBUG INFO) Executor start aborting (this does not indicate an error and you can ignore this message): INVALID_ARGUMENT: You must feed a value for placeholder tensor 'gradients/split_grad/concat/split/split_dim' with dtype int32\n",
      "\t [[{{node gradients/split_grad/concat/split/split_dim}}]]\n",
      "2023-03-28 05:04:16.276233: I tensorflow/core/common_runtime/executor.cc:1197] [/device:CPU:0] (DEBUG INFO) Executor start aborting (this does not indicate an error and you can ignore this message): INVALID_ARGUMENT: You must feed a value for placeholder tensor 'gradients/split_1_grad/concat/split_1/split_dim' with dtype int32\n",
      "\t [[{{node gradients/split_1_grad/concat/split_1/split_dim}}]]\n",
      "2023-03-28 05:04:16.574054: I tensorflow/core/common_runtime/executor.cc:1197] [/device:CPU:0] (DEBUG INFO) Executor start aborting (this does not indicate an error and you can ignore this message): INVALID_ARGUMENT: You must feed a value for placeholder tensor 'gradients/split_2_grad/concat/split_2/split_dim' with dtype int32\n",
      "\t [[{{node gradients/split_2_grad/concat/split_2/split_dim}}]]\n",
      "2023-03-28 05:04:16.576380: I tensorflow/core/common_runtime/executor.cc:1197] [/device:CPU:0] (DEBUG INFO) Executor start aborting (this does not indicate an error and you can ignore this message): INVALID_ARGUMENT: You must feed a value for placeholder tensor 'gradients/split_grad/concat/split/split_dim' with dtype int32\n",
      "\t [[{{node gradients/split_grad/concat/split/split_dim}}]]\n",
      "2023-03-28 05:04:16.577780: I tensorflow/core/common_runtime/executor.cc:1197] [/device:CPU:0] (DEBUG INFO) Executor start aborting (this does not indicate an error and you can ignore this message): INVALID_ARGUMENT: You must feed a value for placeholder tensor 'gradients/split_1_grad/concat/split_1/split_dim' with dtype int32\n",
      "\t [[{{node gradients/split_1_grad/concat/split_1/split_dim}}]]\n",
      "2023-03-28 05:04:17.364294: I tensorflow/core/common_runtime/executor.cc:1197] [/device:CPU:0] (DEBUG INFO) Executor start aborting (this does not indicate an error and you can ignore this message): INVALID_ARGUMENT: You must feed a value for placeholder tensor 'gradients/split_2_grad/concat/split_2/split_dim' with dtype int32\n",
      "\t [[{{node gradients/split_2_grad/concat/split_2/split_dim}}]]\n",
      "2023-03-28 05:04:17.366403: I tensorflow/core/common_runtime/executor.cc:1197] [/device:CPU:0] (DEBUG INFO) Executor start aborting (this does not indicate an error and you can ignore this message): INVALID_ARGUMENT: You must feed a value for placeholder tensor 'gradients/split_grad/concat/split/split_dim' with dtype int32\n",
      "\t [[{{node gradients/split_grad/concat/split/split_dim}}]]\n",
      "2023-03-28 05:04:17.367855: I tensorflow/core/common_runtime/executor.cc:1197] [/device:CPU:0] (DEBUG INFO) Executor start aborting (this does not indicate an error and you can ignore this message): INVALID_ARGUMENT: You must feed a value for placeholder tensor 'gradients/split_1_grad/concat/split_1/split_dim' with dtype int32\n",
      "\t [[{{node gradients/split_1_grad/concat/split_1/split_dim}}]]\n"
     ]
    },
    {
     "name": "stdout",
     "output_type": "stream",
     "text": [
      "7/7 [==============================] - ETA: 0s - loss: 0.6610 - accuracy: 0.7548"
     ]
    },
    {
     "name": "stderr",
     "output_type": "stream",
     "text": [
      "2023-03-28 05:04:19.606021: I tensorflow/core/common_runtime/executor.cc:1197] [/device:CPU:0] (DEBUG INFO) Executor start aborting (this does not indicate an error and you can ignore this message): INVALID_ARGUMENT: You must feed a value for placeholder tensor 'gradients/split_2_grad/concat/split_2/split_dim' with dtype int32\n",
      "\t [[{{node gradients/split_2_grad/concat/split_2/split_dim}}]]\n",
      "2023-03-28 05:04:19.607891: I tensorflow/core/common_runtime/executor.cc:1197] [/device:CPU:0] (DEBUG INFO) Executor start aborting (this does not indicate an error and you can ignore this message): INVALID_ARGUMENT: You must feed a value for placeholder tensor 'gradients/split_grad/concat/split/split_dim' with dtype int32\n",
      "\t [[{{node gradients/split_grad/concat/split/split_dim}}]]\n",
      "2023-03-28 05:04:19.609323: I tensorflow/core/common_runtime/executor.cc:1197] [/device:CPU:0] (DEBUG INFO) Executor start aborting (this does not indicate an error and you can ignore this message): INVALID_ARGUMENT: You must feed a value for placeholder tensor 'gradients/split_1_grad/concat/split_1/split_dim' with dtype int32\n",
      "\t [[{{node gradients/split_1_grad/concat/split_1/split_dim}}]]\n"
     ]
    },
    {
     "name": "stdout",
     "output_type": "stream",
     "text": [
      "7/7 [==============================] - 4s 236ms/step - loss: 0.6610 - accuracy: 0.7548 - val_loss: 0.6266 - val_accuracy: 0.7778\n",
      "Epoch 2/3\n",
      "7/7 [==============================] - 1s 157ms/step - loss: 0.5863 - accuracy: 0.8429 - val_loss: 0.5137 - val_accuracy: 0.8667\n",
      "Epoch 3/3\n",
      "7/7 [==============================] - 1s 159ms/step - loss: 0.4279 - accuracy: 0.9000 - val_loss: 0.2970 - val_accuracy: 0.9833\n"
     ]
    },
    {
     "ename": "NameError",
     "evalue": "name 'X_test_int' is not defined",
     "output_type": "error",
     "traceback": [
      "\u001b[0;31m---------------------------------------------------------------------------\u001b[0m",
      "\u001b[0;31mNameError\u001b[0m                                 Traceback (most recent call last)",
      "Cell \u001b[0;32mIn [61], line 12\u001b[0m\n\u001b[1;32m     10\u001b[0m model\u001b[38;5;241m.\u001b[39mfit(X_train, y_train_int, validation_data\u001b[38;5;241m=\u001b[39m(X_test, y_test_int), epochs\u001b[38;5;241m=\u001b[39m\u001b[38;5;241m3\u001b[39m, batch_size\u001b[38;5;241m=\u001b[39m\u001b[38;5;241m64\u001b[39m)\n\u001b[1;32m     11\u001b[0m \u001b[38;5;66;03m# Final evaluation of the model\u001b[39;00m\n\u001b[0;32m---> 12\u001b[0m scores \u001b[38;5;241m=\u001b[39m model\u001b[38;5;241m.\u001b[39mevaluate(\u001b[43mX_test_int\u001b[49m, y_test_int, verbose\u001b[38;5;241m=\u001b[39m\u001b[38;5;241m0\u001b[39m)\n\u001b[1;32m     13\u001b[0m \u001b[38;5;28mprint\u001b[39m(\u001b[38;5;124m\"\u001b[39m\u001b[38;5;124mAccuracy: \u001b[39m\u001b[38;5;132;01m%.2f\u001b[39;00m\u001b[38;5;132;01m%%\u001b[39;00m\u001b[38;5;124m\"\u001b[39m \u001b[38;5;241m%\u001b[39m (scores[\u001b[38;5;241m1\u001b[39m]\u001b[38;5;241m*\u001b[39m\u001b[38;5;241m100\u001b[39m))\n",
      "\u001b[0;31mNameError\u001b[0m: name 'X_test_int' is not defined"
     ]
    }
   ],
   "source": [
    "model = Sequential()\n",
    "model.add(LSTM(100))\n",
    "model.add(Dense(50, activation='relu'))\n",
    "model.add(Dense(25, activation='relu'))\n",
    "model.add(Dense(10, activation='relu'))\n",
    "model.add(Dense(1, activation='sigmoid'))\n",
    "model.compile(loss='binary_crossentropy', optimizer='adam', metrics=['accuracy'])\n",
    "model.build((600,93,1))\n",
    "print(model.summary())\n",
    "model.fit(X_train, y_train_int, validation_data=(X_test, y_test_int), epochs=3, batch_size=64)"
   ]
  },
  {
   "cell_type": "code",
   "execution_count": 62,
   "id": "dad1227b-da2e-4a75-b673-3eeda3900a44",
   "metadata": {},
   "outputs": [
    {
     "name": "stdout",
     "output_type": "stream",
     "text": [
      "Accuracy: 98.33%\n"
     ]
    }
   ],
   "source": [
    "# Final evaluation of the model\n",
    "scores = model.evaluate(X_test, y_test_int, verbose=0)\n",
    "print(\"Accuracy: %.2f%%\" % (scores[1]*100))"
   ]
  },
  {
   "cell_type": "markdown",
   "id": "2629f3f5-5a51-45d7-9c68-75b969101405",
   "metadata": {},
   "source": [
    "## Submission"
   ]
  },
  {
   "cell_type": "markdown",
   "id": "287c178f-1113-4456-b1c6-3188273bc1f3",
   "metadata": {},
   "source": [
    "Once you are happy with your model, you can make a submission. To make a submission, you will need to use your model to make predictions about the presence of rice crops for a set of test coordinates we have provided in the <a href=\"https://challenge.ey.com/api/v1/storage/admin-files/6847912254281276-63ca8b5ab12e510013520e2b-challenge_1_submission_template.csv\"><b>\"challenge_1_submission_template.csv\"</b></a> file and upload the file onto the challenge platform."
   ]
  },
  {
   "cell_type": "code",
   "execution_count": 63,
   "id": "c1fc4682-5a87-4ccb-9b4d-877221e397e9",
   "metadata": {},
   "outputs": [
    {
     "data": {
      "text/html": [
       "<div>\n",
       "<style scoped>\n",
       "    .dataframe tbody tr th:only-of-type {\n",
       "        vertical-align: middle;\n",
       "    }\n",
       "\n",
       "    .dataframe tbody tr th {\n",
       "        vertical-align: top;\n",
       "    }\n",
       "\n",
       "    .dataframe thead th {\n",
       "        text-align: right;\n",
       "    }\n",
       "</style>\n",
       "<table border=\"1\" class=\"dataframe\">\n",
       "  <thead>\n",
       "    <tr style=\"text-align: right;\">\n",
       "      <th></th>\n",
       "      <th>id</th>\n",
       "      <th>target</th>\n",
       "    </tr>\n",
       "  </thead>\n",
       "  <tbody>\n",
       "    <tr>\n",
       "      <th>0</th>\n",
       "      <td>(10.18019073690894, 105.32022315786804)</td>\n",
       "      <td>NaN</td>\n",
       "    </tr>\n",
       "    <tr>\n",
       "      <th>1</th>\n",
       "      <td>(10.561107033461816, 105.12772097986661)</td>\n",
       "      <td>NaN</td>\n",
       "    </tr>\n",
       "    <tr>\n",
       "      <th>2</th>\n",
       "      <td>(10.623790611954897, 105.13771401411867)</td>\n",
       "      <td>NaN</td>\n",
       "    </tr>\n",
       "    <tr>\n",
       "      <th>3</th>\n",
       "      <td>(10.583364246115156, 105.23946127195805)</td>\n",
       "      <td>NaN</td>\n",
       "    </tr>\n",
       "    <tr>\n",
       "      <th>4</th>\n",
       "      <td>(10.20744446668854, 105.26844107128906)</td>\n",
       "      <td>NaN</td>\n",
       "    </tr>\n",
       "  </tbody>\n",
       "</table>\n",
       "</div>"
      ],
      "text/plain": [
       "                                         id  target\n",
       "0   (10.18019073690894, 105.32022315786804)     NaN\n",
       "1  (10.561107033461816, 105.12772097986661)     NaN\n",
       "2  (10.623790611954897, 105.13771401411867)     NaN\n",
       "3  (10.583364246115156, 105.23946127195805)     NaN\n",
       "4   (10.20744446668854, 105.26844107128906)     NaN"
      ]
     },
     "execution_count": 63,
     "metadata": {},
     "output_type": "execute_result"
    }
   ],
   "source": [
    "#Reading the coordinates for the submission\n",
    "test_file = pd.read_csv('challenge_1_submission_template.csv')\n",
    "test_file.head()"
   ]
  },
  {
   "cell_type": "code",
   "execution_count": 66,
   "id": "c0c5e29a-3bfa-4f5e-ac00-ffbf6b18033e",
   "metadata": {},
   "outputs": [
    {
     "name": "stderr",
     "output_type": "stream",
     "text": [
      "100%|██████████| 250/250 [1:17:54<00:00, 18.70s/it]\n"
     ]
    }
   ],
   "source": [
    "## Get Sentinel-1-RTC Data\n",
    "time_slice = \"2020-03-20/2021-03-20\"\n",
    "assests = ['vh','vv']\n",
    "vh_vv = []\n",
    "for coordinates in tqdm(test_file['id']):\n",
    "    vh_vv.append(get_sentinel_data(coordinates,time_slice,assests))\n",
    "submission_vh_vv_data = pd.DataFrame(vh_vv)"
   ]
  },
  {
   "cell_type": "code",
   "execution_count": 67,
   "id": "08b02ce9-ef4b-4e96-b895-cabca85f2860",
   "metadata": {},
   "outputs": [
    {
     "data": {
      "text/html": [
       "<div>\n",
       "<style scoped>\n",
       "    .dataframe tbody tr th:only-of-type {\n",
       "        vertical-align: middle;\n",
       "    }\n",
       "\n",
       "    .dataframe tbody tr th {\n",
       "        vertical-align: top;\n",
       "    }\n",
       "\n",
       "    .dataframe thead th {\n",
       "        text-align: right;\n",
       "    }\n",
       "</style>\n",
       "<table border=\"1\" class=\"dataframe\">\n",
       "  <thead>\n",
       "    <tr style=\"text-align: right;\">\n",
       "      <th></th>\n",
       "      <th>0</th>\n",
       "      <th>1</th>\n",
       "      <th>2</th>\n",
       "      <th>3</th>\n",
       "      <th>4</th>\n",
       "      <th>5</th>\n",
       "      <th>6</th>\n",
       "      <th>7</th>\n",
       "      <th>8</th>\n",
       "      <th>9</th>\n",
       "      <th>...</th>\n",
       "      <th>83</th>\n",
       "      <th>84</th>\n",
       "      <th>85</th>\n",
       "      <th>86</th>\n",
       "      <th>87</th>\n",
       "      <th>88</th>\n",
       "      <th>89</th>\n",
       "      <th>90</th>\n",
       "      <th>91</th>\n",
       "      <th>92</th>\n",
       "    </tr>\n",
       "  </thead>\n",
       "  <tbody>\n",
       "    <tr>\n",
       "      <th>0</th>\n",
       "      <td>&lt;xarray.DataArray ()&gt;\\narray(0.20498002, dtype...</td>\n",
       "      <td>&lt;xarray.DataArray ()&gt;\\narray(0.09581719, dtype...</td>\n",
       "      <td>&lt;xarray.DataArray ()&gt;\\narray(0.20718579, dtype...</td>\n",
       "      <td>&lt;xarray.DataArray ()&gt;\\narray(0.2533498, dtype=...</td>\n",
       "      <td>&lt;xarray.DataArray ()&gt;\\narray(0.11844371, dtype...</td>\n",
       "      <td>&lt;xarray.DataArray ()&gt;\\narray(0.02767199, dtype...</td>\n",
       "      <td>&lt;xarray.DataArray ()&gt;\\narray(0.10165091, dtype...</td>\n",
       "      <td>&lt;xarray.DataArray ()&gt;\\narray(0.04258522, dtype...</td>\n",
       "      <td>&lt;xarray.DataArray ()&gt;\\narray(0.4925321, dtype=...</td>\n",
       "      <td>&lt;xarray.DataArray ()&gt;\\narray(0.6745176, dtype=...</td>\n",
       "      <td>...</td>\n",
       "      <td>&lt;xarray.DataArray ()&gt;\\narray(0.5674154, dtype=...</td>\n",
       "      <td>&lt;xarray.DataArray ()&gt;\\narray(0.4159905, dtype=...</td>\n",
       "      <td>&lt;xarray.DataArray ()&gt;\\narray(0.73235065, dtype...</td>\n",
       "      <td>&lt;xarray.DataArray ()&gt;\\narray(0.800328, dtype=f...</td>\n",
       "      <td>&lt;xarray.DataArray ()&gt;\\narray(0.61892587, dtype...</td>\n",
       "      <td>&lt;xarray.DataArray ()&gt;\\narray(0.60382855, dtype...</td>\n",
       "      <td>&lt;xarray.DataArray ()&gt;\\narray(0.7630911, dtype=...</td>\n",
       "      <td>&lt;xarray.DataArray ()&gt;\\narray(0.72475797, dtype...</td>\n",
       "      <td>&lt;xarray.DataArray ()&gt;\\narray(0.70411044, dtype...</td>\n",
       "      <td>&lt;xarray.DataArray ()&gt;\\narray(1.1346291, dtype=...</td>\n",
       "    </tr>\n",
       "    <tr>\n",
       "      <th>1</th>\n",
       "      <td>&lt;xarray.DataArray ()&gt;\\narray(0.11710291, dtype...</td>\n",
       "      <td>&lt;xarray.DataArray ()&gt;\\narray(0.11907005, dtype...</td>\n",
       "      <td>&lt;xarray.DataArray ()&gt;\\narray(0.27990967, dtype...</td>\n",
       "      <td>&lt;xarray.DataArray ()&gt;\\narray(0.14115386, dtype...</td>\n",
       "      <td>&lt;xarray.DataArray ()&gt;\\narray(0.19613186, dtype...</td>\n",
       "      <td>&lt;xarray.DataArray ()&gt;\\narray(0.06624521, dtype...</td>\n",
       "      <td>&lt;xarray.DataArray ()&gt;\\narray(0.17149457, dtype...</td>\n",
       "      <td>&lt;xarray.DataArray ()&gt;\\narray(0.14702904, dtype...</td>\n",
       "      <td>&lt;xarray.DataArray ()&gt;\\narray(0.22493415, dtype...</td>\n",
       "      <td>&lt;xarray.DataArray ()&gt;\\narray(0.5882499, dtype=...</td>\n",
       "      <td>...</td>\n",
       "      <td>&lt;xarray.DataArray ()&gt;\\narray(0.6932167, dtype=...</td>\n",
       "      <td>&lt;xarray.DataArray ()&gt;\\narray(0.3987493, dtype=...</td>\n",
       "      <td>&lt;xarray.DataArray ()&gt;\\narray(0.4053366, dtype=...</td>\n",
       "      <td>&lt;xarray.DataArray ()&gt;\\narray(0.9910362, dtype=...</td>\n",
       "      <td>&lt;xarray.DataArray ()&gt;\\narray(0.71792424, dtype...</td>\n",
       "      <td>&lt;xarray.DataArray ()&gt;\\narray(0.5605409, dtype=...</td>\n",
       "      <td>&lt;xarray.DataArray ()&gt;\\narray(0.64207584, dtype...</td>\n",
       "      <td>&lt;xarray.DataArray ()&gt;\\narray(0.8856257, dtype=...</td>\n",
       "      <td>&lt;xarray.DataArray ()&gt;\\narray(0.67131335, dtype...</td>\n",
       "      <td>&lt;xarray.DataArray ()&gt;\\narray(1.2807736, dtype=...</td>\n",
       "    </tr>\n",
       "    <tr>\n",
       "      <th>2</th>\n",
       "      <td>&lt;xarray.DataArray ()&gt;\\narray(0.43898377, dtype...</td>\n",
       "      <td>&lt;xarray.DataArray ()&gt;\\narray(0.69650763, dtype...</td>\n",
       "      <td>&lt;xarray.DataArray ()&gt;\\narray(0.7175918, dtype=...</td>\n",
       "      <td>&lt;xarray.DataArray ()&gt;\\narray(0.4817952, dtype=...</td>\n",
       "      <td>&lt;xarray.DataArray ()&gt;\\narray(0.81247586, dtype...</td>\n",
       "      <td>&lt;xarray.DataArray ()&gt;\\narray(0.5653384, dtype=...</td>\n",
       "      <td>&lt;xarray.DataArray ()&gt;\\narray(0.33836052, dtype...</td>\n",
       "      <td>&lt;xarray.DataArray ()&gt;\\narray(0.45593515, dtype...</td>\n",
       "      <td>&lt;xarray.DataArray ()&gt;\\narray(0.39517048, dtype...</td>\n",
       "      <td>&lt;xarray.DataArray ()&gt;\\narray(0.3908047, dtype=...</td>\n",
       "      <td>...</td>\n",
       "      <td>&lt;xarray.DataArray ()&gt;\\narray(0.2704521, dtype=...</td>\n",
       "      <td>&lt;xarray.DataArray ()&gt;\\narray(0.49552223, dtype...</td>\n",
       "      <td>&lt;xarray.DataArray ()&gt;\\narray(0.3681865, dtype=...</td>\n",
       "      <td>&lt;xarray.DataArray ()&gt;\\narray(0.16039291, dtype...</td>\n",
       "      <td>&lt;xarray.DataArray ()&gt;\\narray(0.75872433, dtype...</td>\n",
       "      <td>&lt;xarray.DataArray ()&gt;\\narray(0.38063878, dtype...</td>\n",
       "      <td>&lt;xarray.DataArray ()&gt;\\narray(0.40482783, dtype...</td>\n",
       "      <td>&lt;xarray.DataArray ()&gt;\\narray(0.93083644, dtype...</td>\n",
       "      <td>&lt;xarray.DataArray ()&gt;\\narray(0.65628135, dtype...</td>\n",
       "      <td>&lt;xarray.DataArray ()&gt;\\narray(0.27782217, dtype...</td>\n",
       "    </tr>\n",
       "    <tr>\n",
       "      <th>3</th>\n",
       "      <td>&lt;xarray.DataArray ()&gt;\\narray(0.8433081, dtype=...</td>\n",
       "      <td>&lt;xarray.DataArray ()&gt;\\narray(0.3684077, dtype=...</td>\n",
       "      <td>&lt;xarray.DataArray ()&gt;\\narray(0.28390878, dtype...</td>\n",
       "      <td>&lt;xarray.DataArray ()&gt;\\narray(0.3935043, dtype=...</td>\n",
       "      <td>&lt;xarray.DataArray ()&gt;\\narray(0.5877848, dtype=...</td>\n",
       "      <td>&lt;xarray.DataArray ()&gt;\\narray(0.6460531, dtype=...</td>\n",
       "      <td>&lt;xarray.DataArray ()&gt;\\narray(0.53515136, dtype...</td>\n",
       "      <td>&lt;xarray.DataArray ()&gt;\\narray(0.38372862, dtype...</td>\n",
       "      <td>&lt;xarray.DataArray ()&gt;\\narray(0.39201453, dtype...</td>\n",
       "      <td>&lt;xarray.DataArray ()&gt;\\narray(0.33640766, dtype...</td>\n",
       "      <td>...</td>\n",
       "      <td>&lt;xarray.DataArray ()&gt;\\narray(0.45283407, dtype...</td>\n",
       "      <td>&lt;xarray.DataArray ()&gt;\\narray(0.5277884, dtype=...</td>\n",
       "      <td>&lt;xarray.DataArray ()&gt;\\narray(0.42061043, dtype...</td>\n",
       "      <td>&lt;xarray.DataArray ()&gt;\\narray(0.695183, dtype=f...</td>\n",
       "      <td>&lt;xarray.DataArray ()&gt;\\narray(0.3238123, dtype=...</td>\n",
       "      <td>&lt;xarray.DataArray ()&gt;\\narray(0.51410043, dtype...</td>\n",
       "      <td>&lt;xarray.DataArray ()&gt;\\narray(0.4949537, dtype=...</td>\n",
       "      <td>&lt;xarray.DataArray ()&gt;\\narray(0.45904544, dtype...</td>\n",
       "      <td>&lt;xarray.DataArray ()&gt;\\narray(0.5261167, dtype=...</td>\n",
       "      <td>&lt;xarray.DataArray ()&gt;\\narray(0.88999724, dtype...</td>\n",
       "    </tr>\n",
       "    <tr>\n",
       "      <th>4</th>\n",
       "      <td>&lt;xarray.DataArray ()&gt;\\narray(0.46209118, dtype...</td>\n",
       "      <td>&lt;xarray.DataArray ()&gt;\\narray(0.2610963, dtype=...</td>\n",
       "      <td>&lt;xarray.DataArray ()&gt;\\narray(0.6274914, dtype=...</td>\n",
       "      <td>&lt;xarray.DataArray ()&gt;\\narray(0.2072094, dtype=...</td>\n",
       "      <td>&lt;xarray.DataArray ()&gt;\\narray(0.05597639, dtype...</td>\n",
       "      <td>&lt;xarray.DataArray ()&gt;\\narray(0.10425574, dtype...</td>\n",
       "      <td>&lt;xarray.DataArray ()&gt;\\narray(0.15725571, dtype...</td>\n",
       "      <td>&lt;xarray.DataArray ()&gt;\\narray(0.13038425, dtype...</td>\n",
       "      <td>&lt;xarray.DataArray ()&gt;\\narray(0.07319376, dtype...</td>\n",
       "      <td>&lt;xarray.DataArray ()&gt;\\narray(0.13584733, dtype...</td>\n",
       "      <td>...</td>\n",
       "      <td>&lt;xarray.DataArray ()&gt;\\narray(0.49297413, dtype...</td>\n",
       "      <td>&lt;xarray.DataArray ()&gt;\\narray(0.4613879, dtype=...</td>\n",
       "      <td>&lt;xarray.DataArray ()&gt;\\narray(0.90365267, dtype...</td>\n",
       "      <td>&lt;xarray.DataArray ()&gt;\\narray(0.29636106, dtype...</td>\n",
       "      <td>&lt;xarray.DataArray ()&gt;\\narray(0.5994225, dtype=...</td>\n",
       "      <td>&lt;xarray.DataArray ()&gt;\\narray(0.9913828, dtype=...</td>\n",
       "      <td>&lt;xarray.DataArray ()&gt;\\narray(0.7312665, dtype=...</td>\n",
       "      <td>&lt;xarray.DataArray ()&gt;\\narray(0.5909075, dtype=...</td>\n",
       "      <td>&lt;xarray.DataArray ()&gt;\\narray(0.43711868, dtype...</td>\n",
       "      <td>&lt;xarray.DataArray ()&gt;\\narray(0.63138276, dtype...</td>\n",
       "    </tr>\n",
       "  </tbody>\n",
       "</table>\n",
       "<p>5 rows × 93 columns</p>\n",
       "</div>"
      ],
      "text/plain": [
       "                                                  0   \\\n",
       "0  <xarray.DataArray ()>\\narray(0.20498002, dtype...   \n",
       "1  <xarray.DataArray ()>\\narray(0.11710291, dtype...   \n",
       "2  <xarray.DataArray ()>\\narray(0.43898377, dtype...   \n",
       "3  <xarray.DataArray ()>\\narray(0.8433081, dtype=...   \n",
       "4  <xarray.DataArray ()>\\narray(0.46209118, dtype...   \n",
       "\n",
       "                                                  1   \\\n",
       "0  <xarray.DataArray ()>\\narray(0.09581719, dtype...   \n",
       "1  <xarray.DataArray ()>\\narray(0.11907005, dtype...   \n",
       "2  <xarray.DataArray ()>\\narray(0.69650763, dtype...   \n",
       "3  <xarray.DataArray ()>\\narray(0.3684077, dtype=...   \n",
       "4  <xarray.DataArray ()>\\narray(0.2610963, dtype=...   \n",
       "\n",
       "                                                  2   \\\n",
       "0  <xarray.DataArray ()>\\narray(0.20718579, dtype...   \n",
       "1  <xarray.DataArray ()>\\narray(0.27990967, dtype...   \n",
       "2  <xarray.DataArray ()>\\narray(0.7175918, dtype=...   \n",
       "3  <xarray.DataArray ()>\\narray(0.28390878, dtype...   \n",
       "4  <xarray.DataArray ()>\\narray(0.6274914, dtype=...   \n",
       "\n",
       "                                                  3   \\\n",
       "0  <xarray.DataArray ()>\\narray(0.2533498, dtype=...   \n",
       "1  <xarray.DataArray ()>\\narray(0.14115386, dtype...   \n",
       "2  <xarray.DataArray ()>\\narray(0.4817952, dtype=...   \n",
       "3  <xarray.DataArray ()>\\narray(0.3935043, dtype=...   \n",
       "4  <xarray.DataArray ()>\\narray(0.2072094, dtype=...   \n",
       "\n",
       "                                                  4   \\\n",
       "0  <xarray.DataArray ()>\\narray(0.11844371, dtype...   \n",
       "1  <xarray.DataArray ()>\\narray(0.19613186, dtype...   \n",
       "2  <xarray.DataArray ()>\\narray(0.81247586, dtype...   \n",
       "3  <xarray.DataArray ()>\\narray(0.5877848, dtype=...   \n",
       "4  <xarray.DataArray ()>\\narray(0.05597639, dtype...   \n",
       "\n",
       "                                                  5   \\\n",
       "0  <xarray.DataArray ()>\\narray(0.02767199, dtype...   \n",
       "1  <xarray.DataArray ()>\\narray(0.06624521, dtype...   \n",
       "2  <xarray.DataArray ()>\\narray(0.5653384, dtype=...   \n",
       "3  <xarray.DataArray ()>\\narray(0.6460531, dtype=...   \n",
       "4  <xarray.DataArray ()>\\narray(0.10425574, dtype...   \n",
       "\n",
       "                                                  6   \\\n",
       "0  <xarray.DataArray ()>\\narray(0.10165091, dtype...   \n",
       "1  <xarray.DataArray ()>\\narray(0.17149457, dtype...   \n",
       "2  <xarray.DataArray ()>\\narray(0.33836052, dtype...   \n",
       "3  <xarray.DataArray ()>\\narray(0.53515136, dtype...   \n",
       "4  <xarray.DataArray ()>\\narray(0.15725571, dtype...   \n",
       "\n",
       "                                                  7   \\\n",
       "0  <xarray.DataArray ()>\\narray(0.04258522, dtype...   \n",
       "1  <xarray.DataArray ()>\\narray(0.14702904, dtype...   \n",
       "2  <xarray.DataArray ()>\\narray(0.45593515, dtype...   \n",
       "3  <xarray.DataArray ()>\\narray(0.38372862, dtype...   \n",
       "4  <xarray.DataArray ()>\\narray(0.13038425, dtype...   \n",
       "\n",
       "                                                  8   \\\n",
       "0  <xarray.DataArray ()>\\narray(0.4925321, dtype=...   \n",
       "1  <xarray.DataArray ()>\\narray(0.22493415, dtype...   \n",
       "2  <xarray.DataArray ()>\\narray(0.39517048, dtype...   \n",
       "3  <xarray.DataArray ()>\\narray(0.39201453, dtype...   \n",
       "4  <xarray.DataArray ()>\\narray(0.07319376, dtype...   \n",
       "\n",
       "                                                  9   ...  \\\n",
       "0  <xarray.DataArray ()>\\narray(0.6745176, dtype=...  ...   \n",
       "1  <xarray.DataArray ()>\\narray(0.5882499, dtype=...  ...   \n",
       "2  <xarray.DataArray ()>\\narray(0.3908047, dtype=...  ...   \n",
       "3  <xarray.DataArray ()>\\narray(0.33640766, dtype...  ...   \n",
       "4  <xarray.DataArray ()>\\narray(0.13584733, dtype...  ...   \n",
       "\n",
       "                                                  83  \\\n",
       "0  <xarray.DataArray ()>\\narray(0.5674154, dtype=...   \n",
       "1  <xarray.DataArray ()>\\narray(0.6932167, dtype=...   \n",
       "2  <xarray.DataArray ()>\\narray(0.2704521, dtype=...   \n",
       "3  <xarray.DataArray ()>\\narray(0.45283407, dtype...   \n",
       "4  <xarray.DataArray ()>\\narray(0.49297413, dtype...   \n",
       "\n",
       "                                                  84  \\\n",
       "0  <xarray.DataArray ()>\\narray(0.4159905, dtype=...   \n",
       "1  <xarray.DataArray ()>\\narray(0.3987493, dtype=...   \n",
       "2  <xarray.DataArray ()>\\narray(0.49552223, dtype...   \n",
       "3  <xarray.DataArray ()>\\narray(0.5277884, dtype=...   \n",
       "4  <xarray.DataArray ()>\\narray(0.4613879, dtype=...   \n",
       "\n",
       "                                                  85  \\\n",
       "0  <xarray.DataArray ()>\\narray(0.73235065, dtype...   \n",
       "1  <xarray.DataArray ()>\\narray(0.4053366, dtype=...   \n",
       "2  <xarray.DataArray ()>\\narray(0.3681865, dtype=...   \n",
       "3  <xarray.DataArray ()>\\narray(0.42061043, dtype...   \n",
       "4  <xarray.DataArray ()>\\narray(0.90365267, dtype...   \n",
       "\n",
       "                                                  86  \\\n",
       "0  <xarray.DataArray ()>\\narray(0.800328, dtype=f...   \n",
       "1  <xarray.DataArray ()>\\narray(0.9910362, dtype=...   \n",
       "2  <xarray.DataArray ()>\\narray(0.16039291, dtype...   \n",
       "3  <xarray.DataArray ()>\\narray(0.695183, dtype=f...   \n",
       "4  <xarray.DataArray ()>\\narray(0.29636106, dtype...   \n",
       "\n",
       "                                                  87  \\\n",
       "0  <xarray.DataArray ()>\\narray(0.61892587, dtype...   \n",
       "1  <xarray.DataArray ()>\\narray(0.71792424, dtype...   \n",
       "2  <xarray.DataArray ()>\\narray(0.75872433, dtype...   \n",
       "3  <xarray.DataArray ()>\\narray(0.3238123, dtype=...   \n",
       "4  <xarray.DataArray ()>\\narray(0.5994225, dtype=...   \n",
       "\n",
       "                                                  88  \\\n",
       "0  <xarray.DataArray ()>\\narray(0.60382855, dtype...   \n",
       "1  <xarray.DataArray ()>\\narray(0.5605409, dtype=...   \n",
       "2  <xarray.DataArray ()>\\narray(0.38063878, dtype...   \n",
       "3  <xarray.DataArray ()>\\narray(0.51410043, dtype...   \n",
       "4  <xarray.DataArray ()>\\narray(0.9913828, dtype=...   \n",
       "\n",
       "                                                  89  \\\n",
       "0  <xarray.DataArray ()>\\narray(0.7630911, dtype=...   \n",
       "1  <xarray.DataArray ()>\\narray(0.64207584, dtype...   \n",
       "2  <xarray.DataArray ()>\\narray(0.40482783, dtype...   \n",
       "3  <xarray.DataArray ()>\\narray(0.4949537, dtype=...   \n",
       "4  <xarray.DataArray ()>\\narray(0.7312665, dtype=...   \n",
       "\n",
       "                                                  90  \\\n",
       "0  <xarray.DataArray ()>\\narray(0.72475797, dtype...   \n",
       "1  <xarray.DataArray ()>\\narray(0.8856257, dtype=...   \n",
       "2  <xarray.DataArray ()>\\narray(0.93083644, dtype...   \n",
       "3  <xarray.DataArray ()>\\narray(0.45904544, dtype...   \n",
       "4  <xarray.DataArray ()>\\narray(0.5909075, dtype=...   \n",
       "\n",
       "                                                  91  \\\n",
       "0  <xarray.DataArray ()>\\narray(0.70411044, dtype...   \n",
       "1  <xarray.DataArray ()>\\narray(0.67131335, dtype...   \n",
       "2  <xarray.DataArray ()>\\narray(0.65628135, dtype...   \n",
       "3  <xarray.DataArray ()>\\narray(0.5261167, dtype=...   \n",
       "4  <xarray.DataArray ()>\\narray(0.43711868, dtype...   \n",
       "\n",
       "                                                  92  \n",
       "0  <xarray.DataArray ()>\\narray(1.1346291, dtype=...  \n",
       "1  <xarray.DataArray ()>\\narray(1.2807736, dtype=...  \n",
       "2  <xarray.DataArray ()>\\narray(0.27782217, dtype...  \n",
       "3  <xarray.DataArray ()>\\narray(0.88999724, dtype...  \n",
       "4  <xarray.DataArray ()>\\narray(0.63138276, dtype...  \n",
       "\n",
       "[5 rows x 93 columns]"
      ]
     },
     "execution_count": 67,
     "metadata": {},
     "output_type": "execute_result"
    }
   ],
   "source": [
    "submission_vh_vv_data.head()"
   ]
  },
  {
   "cell_type": "code",
   "execution_count": 68,
   "id": "2cb45aca-974a-41e1-a522-36ca202d9af5",
   "metadata": {},
   "outputs": [],
   "source": [
    "# Feature Scaling \n",
    "submission_vh_vv_data = submission_vh_vv_data.values\n",
    "transformed_submission_data = sc.transform(submission_vh_vv_data)\n"
   ]
  },
  {
   "cell_type": "code",
   "execution_count": null,
   "id": "ecc34e3a-bfc1-49a0-94bb-ee1e540abe98",
   "metadata": {},
   "outputs": [],
   "source": [
    "#Making predictions\n",
    "final_predictions = model.predict(transformed_submission_data)\n"
   ]
  },
  {
   "cell_type": "code",
   "execution_count": 79,
   "id": "1cf0edff-6f7c-4783-b70c-81c54a8de422",
   "metadata": {},
   "outputs": [
    {
     "data": {
      "text/plain": [
       "array(['Non Rice', 'Rice', 'Non Rice', 'Non Rice', 'Rice', 'Rice', 'Rice',\n",
       "       'Non Rice', 'Rice', 'Rice', 'Rice', 'Non Rice', 'Rice', 'Rice',\n",
       "       'Non Rice', 'Non Rice', 'Non Rice', 'Rice', 'Rice', 'Non Rice',\n",
       "       'Non Rice', 'Non Rice', 'Rice', 'Non Rice', 'Non Rice', 'Rice',\n",
       "       'Rice', 'Rice', 'Non Rice', 'Rice', 'Non Rice', 'Non Rice', 'Rice',\n",
       "       'Non Rice', 'Rice', 'Rice', 'Rice', 'Rice', 'Rice', 'Non Rice',\n",
       "       'Rice', 'Non Rice', 'Rice', 'Rice', 'Rice', 'Non Rice', 'Non Rice',\n",
       "       'Non Rice', 'Rice', 'Non Rice', 'Non Rice', 'Rice', 'Non Rice',\n",
       "       'Rice', 'Non Rice', 'Non Rice', 'Rice', 'Non Rice', 'Rice',\n",
       "       'Non Rice', 'Rice', 'Non Rice', 'Rice', 'Rice', 'Non Rice',\n",
       "       'Non Rice', 'Non Rice', 'Non Rice', 'Rice', 'Non Rice', 'Rice',\n",
       "       'Non Rice', 'Rice', 'Rice', 'Rice', 'Rice', 'Rice', 'Non Rice',\n",
       "       'Rice', 'Rice', 'Rice', 'Rice', 'Rice', 'Non Rice', 'Non Rice',\n",
       "       'Non Rice', 'Rice', 'Non Rice', 'Rice', 'Rice', 'Non Rice',\n",
       "       'Non Rice', 'Rice', 'Non Rice', 'Rice', 'Non Rice', 'Non Rice',\n",
       "       'Non Rice', 'Rice', 'Rice', 'Non Rice', 'Rice', 'Non Rice',\n",
       "       'Non Rice', 'Non Rice', 'Non Rice', 'Non Rice', 'Rice', 'Non Rice',\n",
       "       'Rice', 'Non Rice', 'Non Rice', 'Rice', 'Non Rice', 'Rice', 'Rice',\n",
       "       'Non Rice', 'Rice', 'Rice', 'Non Rice', 'Non Rice', 'Rice', 'Rice',\n",
       "       'Rice', 'Non Rice', 'Rice', 'Non Rice', 'Non Rice', 'Non Rice',\n",
       "       'Non Rice', 'Rice', 'Non Rice', 'Rice', 'Non Rice', 'Rice',\n",
       "       'Non Rice', 'Non Rice', 'Rice', 'Non Rice', 'Rice', 'Non Rice',\n",
       "       'Rice', 'Non Rice', 'Rice', 'Rice', 'Rice', 'Non Rice', 'Non Rice',\n",
       "       'Non Rice', 'Non Rice', 'Rice', 'Rice', 'Non Rice', 'Non Rice',\n",
       "       'Rice', 'Rice', 'Non Rice', 'Non Rice', 'Rice', 'Rice', 'Non Rice',\n",
       "       'Rice', 'Rice', 'Non Rice', 'Non Rice', 'Non Rice', 'Non Rice',\n",
       "       'Non Rice', 'Rice', 'Rice', 'Non Rice', 'Rice', 'Rice', 'Non Rice',\n",
       "       'Rice', 'Rice', 'Non Rice', 'Non Rice', 'Rice', 'Rice'],\n",
       "      dtype=object)"
      ]
     },
     "execution_count": 79,
     "metadata": {},
     "output_type": "execute_result"
    }
   ],
   "source": [
    "y_test"
   ]
  },
  {
   "cell_type": "code",
   "execution_count": 78,
   "id": "8e7744fe-f891-4c88-8837-e4fe2f72f8bc",
   "metadata": {},
   "outputs": [
    {
     "data": {
      "text/plain": [
       "0      0.998045\n",
       "1      0.997816\n",
       "2      0.446641\n",
       "3      0.428837\n",
       "4      0.997346\n",
       "         ...   \n",
       "245    0.419690\n",
       "246    0.387671\n",
       "247    0.426460\n",
       "248    0.772415\n",
       "249    0.471928\n",
       "Length: 250, dtype: float64"
      ]
     },
     "execution_count": 78,
     "metadata": {},
     "output_type": "execute_result"
    }
   ],
   "source": [
    "final_prediction_series = pd.Series(final_predictions.flatten())\n",
    "final_prediction_series"
   ]
  },
  {
   "cell_type": "code",
   "execution_count": 82,
   "id": "6873d6e9-5ab8-4836-8beb-bb7554230509",
   "metadata": {},
   "outputs": [],
   "source": [
    "for i in range(len(final_prediction_series)):\n",
    "    if final_prediction_series[i] >= 0.50:\n",
    "        final_prediction_series[i] = \"Rice\"\n",
    "    else:\n",
    "        final_prediction_series[i] = \"Non Rice\"\n"
   ]
  },
  {
   "cell_type": "code",
   "execution_count": 83,
   "id": "4047712c-d926-4714-b010-08186e23dd13",
   "metadata": {},
   "outputs": [
    {
     "data": {
      "text/plain": [
       "0          Rice\n",
       "1          Rice\n",
       "2      Non Rice\n",
       "3      Non Rice\n",
       "4          Rice\n",
       "         ...   \n",
       "245    Non Rice\n",
       "246    Non Rice\n",
       "247    Non Rice\n",
       "248        Rice\n",
       "249    Non Rice\n",
       "Length: 250, dtype: object"
      ]
     },
     "execution_count": 83,
     "metadata": {},
     "output_type": "execute_result"
    }
   ],
   "source": [
    "final_prediction_series"
   ]
  },
  {
   "cell_type": "code",
   "execution_count": 85,
   "id": "0375e4cd-fdb0-4b82-8508-6ff022061cf9",
   "metadata": {},
   "outputs": [],
   "source": [
    "#Combining the results into dataframe\n",
    "submission_df = pd.DataFrame({'id':test_file['id'].values, 'target':final_prediction_series.values})"
   ]
  },
  {
   "cell_type": "code",
   "execution_count": 86,
   "id": "1a1a563b-c0ed-4e2c-a7fe-08ad59cf1626",
   "metadata": {},
   "outputs": [
    {
     "data": {
      "text/html": [
       "<div>\n",
       "<style scoped>\n",
       "    .dataframe tbody tr th:only-of-type {\n",
       "        vertical-align: middle;\n",
       "    }\n",
       "\n",
       "    .dataframe tbody tr th {\n",
       "        vertical-align: top;\n",
       "    }\n",
       "\n",
       "    .dataframe thead th {\n",
       "        text-align: right;\n",
       "    }\n",
       "</style>\n",
       "<table border=\"1\" class=\"dataframe\">\n",
       "  <thead>\n",
       "    <tr style=\"text-align: right;\">\n",
       "      <th></th>\n",
       "      <th>id</th>\n",
       "      <th>target</th>\n",
       "    </tr>\n",
       "  </thead>\n",
       "  <tbody>\n",
       "    <tr>\n",
       "      <th>0</th>\n",
       "      <td>(10.18019073690894, 105.32022315786804)</td>\n",
       "      <td>Rice</td>\n",
       "    </tr>\n",
       "    <tr>\n",
       "      <th>1</th>\n",
       "      <td>(10.561107033461816, 105.12772097986661)</td>\n",
       "      <td>Rice</td>\n",
       "    </tr>\n",
       "    <tr>\n",
       "      <th>2</th>\n",
       "      <td>(10.623790611954897, 105.13771401411867)</td>\n",
       "      <td>Non Rice</td>\n",
       "    </tr>\n",
       "    <tr>\n",
       "      <th>3</th>\n",
       "      <td>(10.583364246115156, 105.23946127195805)</td>\n",
       "      <td>Non Rice</td>\n",
       "    </tr>\n",
       "    <tr>\n",
       "      <th>4</th>\n",
       "      <td>(10.20744446668854, 105.26844107128906)</td>\n",
       "      <td>Rice</td>\n",
       "    </tr>\n",
       "    <tr>\n",
       "      <th>...</th>\n",
       "      <td>...</td>\n",
       "      <td>...</td>\n",
       "    </tr>\n",
       "    <tr>\n",
       "      <th>245</th>\n",
       "      <td>(10.308283266873062, 105.50872812216863)</td>\n",
       "      <td>Non Rice</td>\n",
       "    </tr>\n",
       "    <tr>\n",
       "      <th>246</th>\n",
       "      <td>(10.582910017285496, 105.23991550078767)</td>\n",
       "      <td>Non Rice</td>\n",
       "    </tr>\n",
       "    <tr>\n",
       "      <th>247</th>\n",
       "      <td>(10.581547330796518, 105.23991550078767)</td>\n",
       "      <td>Non Rice</td>\n",
       "    </tr>\n",
       "    <tr>\n",
       "      <th>248</th>\n",
       "      <td>(10.629241357910818, 105.15315779432643)</td>\n",
       "      <td>Rice</td>\n",
       "    </tr>\n",
       "    <tr>\n",
       "      <th>249</th>\n",
       "      <td>(10.574733898351617, 105.10410108072531)</td>\n",
       "      <td>Non Rice</td>\n",
       "    </tr>\n",
       "  </tbody>\n",
       "</table>\n",
       "<p>250 rows × 2 columns</p>\n",
       "</div>"
      ],
      "text/plain": [
       "                                           id    target\n",
       "0     (10.18019073690894, 105.32022315786804)      Rice\n",
       "1    (10.561107033461816, 105.12772097986661)      Rice\n",
       "2    (10.623790611954897, 105.13771401411867)  Non Rice\n",
       "3    (10.583364246115156, 105.23946127195805)  Non Rice\n",
       "4     (10.20744446668854, 105.26844107128906)      Rice\n",
       "..                                        ...       ...\n",
       "245  (10.308283266873062, 105.50872812216863)  Non Rice\n",
       "246  (10.582910017285496, 105.23991550078767)  Non Rice\n",
       "247  (10.581547330796518, 105.23991550078767)  Non Rice\n",
       "248  (10.629241357910818, 105.15315779432643)      Rice\n",
       "249  (10.574733898351617, 105.10410108072531)  Non Rice\n",
       "\n",
       "[250 rows x 2 columns]"
      ]
     },
     "metadata": {},
     "output_type": "display_data"
    }
   ],
   "source": [
    "#Displaying the sample submission dataframe\n",
    "display(submission_df)"
   ]
  },
  {
   "cell_type": "code",
   "execution_count": 87,
   "id": "2fcec864-4da3-41e7-80da-b77e42a9d810",
   "metadata": {},
   "outputs": [],
   "source": [
    "#Dumping the predictions into a csv file.\n",
    "submission_df.to_csv(\"challenge_1_submission_rice_crop_prediction.csv\",index = False)"
   ]
  },
  {
   "cell_type": "markdown",
   "id": "094c2fba-5ecb-4ea5-a4a5-1fd6a74952cc",
   "metadata": {},
   "source": [
    "## Conclusion"
   ]
  },
  {
   "cell_type": "markdown",
   "id": "10632df0-a001-4932-8ef9-c7dc9023cc7f",
   "metadata": {},
   "source": [
    "Now that you have learned a basic approach to model training, it’s time to try your own approach! Feel free to modify any of the functions presented in this notebook. We look forward to seeing your version of the model and the results. Best of luck with the challenge!"
   ]
  }
 ],
 "metadata": {
  "kernelspec": {
   "display_name": "Python [conda env:notebook] *",
   "language": "python",
   "name": "conda-env-notebook-py"
  },
  "language_info": {
   "codemirror_mode": {
    "name": "ipython",
    "version": 3
   },
   "file_extension": ".py",
   "mimetype": "text/x-python",
   "name": "python",
   "nbconvert_exporter": "python",
   "pygments_lexer": "ipython3",
   "version": "3.10.6"
  }
 },
 "nbformat": 4,
 "nbformat_minor": 5
}
